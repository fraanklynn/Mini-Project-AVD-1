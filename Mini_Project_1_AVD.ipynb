{
  "nbformat": 4,
  "nbformat_minor": 0,
  "metadata": {
    "colab": {
      "provenance": []
    },
    "kernelspec": {
      "name": "python3",
      "display_name": "Python 3"
    },
    "language_info": {
      "name": "python"
    }
  },
  "cells": [
    {
      "cell_type": "markdown",
      "source": [
        "# BUSINESS UNDERSTANDING\n"
      ],
      "metadata": {
        "id": "8DTv9z52yiZ_"
      }
    },
    {
      "cell_type": "markdown",
      "source": [
        "## Business Objective"
      ],
      "metadata": {
        "id": "IKXsbm-JyM6u"
      }
    },
    {
      "cell_type": "markdown",
      "source": [
        "Proyek ini bertujuan untuk menganalisis data HR Analytics guna menemukan pola dan faktor utama yang berhubungan dengan keberlanjutan karyawan di perusahaan. Beberapa faktor yang akan dianalisis meliputi kepuasan kerja, jam kerja, gaji, pengalaman kerja, dan kesempatan promosi. Dengan memahami faktor-faktor tersebut, perusahaan dapat mengambil langkah yang lebih tepat dalam meningkatkan kesejahteraan karyawan dan menciptakan lingkungan kerja yang lebih baik."
      ],
      "metadata": {
        "id": "ddzmYSuayOfK"
      }
    },
    {
      "cell_type": "markdown",
      "source": [
        "## Assess Situation"
      ],
      "metadata": {
        "id": "6l7zWu1vykue"
      }
    },
    {
      "cell_type": "markdown",
      "source": [
        "Situasi bisnis yang mendasari analisis ini adalah tantangan dalam mempertahankan karyawan akibat berbagai faktor, seperti kepuasan kerja, jam kerja, tingkat gaji, serta kesempatan promosi. Jika banyak karyawan keluar, perusahaan dapat mengalami peningkatan biaya rekrutmen, penurunan produktivitas, dan ketidakstabilan operasional. Selain itu, faktor lain seperti kecelakaan kerja dan lama bekerja di perusahaan juga dapat memengaruhi keputusan karyawan untuk bertahan atau keluar. Dengan menganalisis data yang tersedia, perusahaan dapat mengidentifikasi pola yang berpengaruh dan menyusun strategi untuk mengurangi jumlah karyawan yang keluar serta meningkatkan kesejahteraan tenaga kerja."
      ],
      "metadata": {
        "id": "gtanJMfc1wLB"
      }
    },
    {
      "cell_type": "markdown",
      "source": [
        "## Data Mining Goals"
      ],
      "metadata": {
        "id": "-OpNeD15247j"
      }
    },
    {
      "cell_type": "markdown",
      "source": [
        "Identifikasi faktor utama yang mempengaruhi keputusan karyawan untuk keluar dari perusahaan dilakukan dengan fokus pada variabel seperti kepuasan kerja, jumlah jam kerja, gaji, pengalaman kerja, dan kesempatan promosi. Hasil analisis diharapkan dapat memberikan wawasan yang membantu perusahaan dalam menyusun strategi manajemen sumber daya manusia yang lebih efektif, sehingga dapat meningkatkan kesejahteraan karyawan serta mengurangi tingkat keluar-masuk karyawan."
      ],
      "metadata": {
        "id": "uO56ZN_J3x1w"
      }
    },
    {
      "cell_type": "markdown",
      "source": [
        "## Project Plan"
      ],
      "metadata": {
        "id": "7-G2SrKP3zQY"
      }
    },
    {
      "cell_type": "markdown",
      "source": [
        "Perencanaan proyek ini mencakup langkah-langkah yang akan dilakukan untuk menganalisis faktor-faktor yang memengaruhi keputusan karyawan untuk keluar dari perusahaan. Langkah pertama adalah mengumpulkan dan memeriksa data untuk memastikan kelengkapannya serta menghindari kesalahan. Selanjutnya, data akan dianalisis untuk menemukan pola dan hubungan antara faktor-faktor seperti kepuasan kerja, jam kerja, gaji, pengalaman kerja, dan kesempatan promosi. Setelah itu, metode analisis akan diterapkan untuk mengidentifikasi faktor utama yang paling berpengaruh. Hasil analisis ini kemudian digunakan untuk memberikan rekomendasi kepada perusahaan agar dapat menyusun strategi yang lebih baik dalam mengurangi jumlah karyawan yang keluar. Dengan perencanaan yang terstruktur, proyek ini dapat berjalan secara efisien dan memberikan hasil yang bermanfaat."
      ],
      "metadata": {
        "id": "cyS1HpWK53db"
      }
    }
  ]
}